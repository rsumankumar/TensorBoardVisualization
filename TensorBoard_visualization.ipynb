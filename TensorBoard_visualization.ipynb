{
 "cells": [
  {
   "cell_type": "code",
   "execution_count": 1,
   "metadata": {},
   "outputs": [
    {
     "name": "stdout",
     "output_type": "stream",
     "text": [
      "D:\\ASTUDY\\AIML\\programs\\Fleet\\FlowLevel\\GE\n"
     ]
    }
   ],
   "source": [
    "cd D:\\\\ASTUDY\\\\AIML\\\\programs\\\\Fleet\\\\FlowLevel\\\\GE"
   ]
  },
  {
   "cell_type": "code",
   "execution_count": 3,
   "metadata": {},
   "outputs": [],
   "source": [
    "## Importing required Libraries\n",
    "import os\n",
    "import tensorflow as tf\n",
    "from tensorflow.contrib.tensorboard.plugins import projector\n",
    "import numpy as np\n",
    "import pandas as pd\n",
    "from sklearn.preprocessing import StandardScaler\n",
    "from sklearn.decomposition import PCA\n",
    "\n",
    "## Get working directory\n",
    "PATH = PATH = os.getcwd()\n",
    "\n",
    "## Path to save the embedding and checkpoints generated\n",
    "LOG_DIR = PATH + '/project-tensorboard/log-1/'\n",
    "\n",
    "## Load data\n",
    "df = pd.read_csv(\"output-usersessions.csv\",index_col =0)\n",
    "\n",
    "## Load the metadata file. Metadata consists your labels. This is optional. Metadata helps us visualize(color) different clusters that form t-SNE\n",
    "\n",
    "#metadata = os.path.join(LOG_DIR, 'df_labels.tsv')\n",
    "\n",
    "# Generating PCA and \n",
    "pca = PCA(n_components=290,\n",
    "         random_state = 123,\n",
    "         svd_solver = 'auto'\n",
    "         )\n",
    "\n",
    "df_pca = pd.DataFrame(pca.fit_transform(df))\n",
    "df_pca = df_pca.values\n",
    "\n",
    "## TensorFlow Variable from data\n",
    "tf_data = tf.Variable(df_pca)\n",
    "\n",
    "## Running TensorFlow Session\n",
    "with tf.Session() as sess:\n",
    "    saver = tf.train.Saver([tf_data])\n",
    "    sess.run(tf_data.initializer)\n",
    "    saver.save(sess, os.path.join(LOG_DIR, 'tf_data.ckpt'))\n",
    "    config = projector.ProjectorConfig()\n",
    "\n",
    "# One can add multiple embeddings.\n",
    "    embedding = config.embeddings.add()\n",
    "    embedding.tensor_name = tf_data.name\n",
    "\n",
    "    # Link this tensor to its metadata(Labels) file\n",
    "   # embedding.metadata_path = metadata\n",
    "\n",
    "    # Saves a config file that TensorBoard will read during startup.\n",
    "    projector.visualize_embeddings(tf.summary.FileWriter(LOG_DIR), config)"
   ]
  },
  {
   "cell_type": "code",
   "execution_count": null,
   "metadata": {},
   "outputs": [],
   "source": []
  }
 ],
 "metadata": {
  "kernelspec": {
   "display_name": "Python 3",
   "language": "python",
   "name": "python3"
  },
  "language_info": {
   "codemirror_mode": {
    "name": "ipython",
    "version": 3
   },
   "file_extension": ".py",
   "mimetype": "text/x-python",
   "name": "python",
   "nbconvert_exporter": "python",
   "pygments_lexer": "ipython3",
   "version": "3.6.6"
  }
 },
 "nbformat": 4,
 "nbformat_minor": 2
}
